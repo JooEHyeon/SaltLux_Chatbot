{
  "nbformat": 4,
  "nbformat_minor": 0,
  "metadata": {
    "kernelspec": {
      "display_name": "Python 3",
      "language": "python",
      "name": "python3"
    },
    "language_info": {
      "codemirror_mode": {
        "name": "ipython",
        "version": 3
      },
      "file_extension": ".py",
      "mimetype": "text/x-python",
      "name": "python",
      "nbconvert_exporter": "python",
      "pygments_lexer": "ipython3",
      "version": "3.6.5"
    },
    "colab": {
      "name": "apparel_advanced.ipynb",
      "provenance": [],
      "collapsed_sections": [],
      "machine_shape": "hm",
      "include_colab_link": true
    },
    "accelerator": "GPU"
  },
  "cells": [
    {
      "cell_type": "markdown",
      "metadata": {
        "id": "view-in-github",
        "colab_type": "text"
      },
      "source": [
        "<a href=\"https://colab.research.google.com/github/JooEHyeon/SaltLux_Chatbot/blob/master/apparel_advanced.ipynb\" target=\"_parent\"><img src=\"https://colab.research.google.com/assets/colab-badge.svg\" alt=\"Open In Colab\"/></a>"
      ]
    },
    {
      "cell_type": "code",
      "metadata": {
        "id": "dMdlbR9cygY8",
        "outputId": "3593eeb1-5d36-4f73-a731-8512856a21d0",
        "colab": {
          "base_uri": "https://localhost:8080/",
          "height": 35
        }
      },
      "source": [
        "import os, sys\n",
        "from google.colab import drive\n",
        "drive.mount('/content/drive')\n",
        "\n",
        "my_path = '/content/notebooks'\n",
        "# Colab Notebooks 안에 my_env 폴더에 패키지 저장\n",
        "os.symlink('/content/drive/My Drive/Colab Notebooks/my_env', my_path)\n",
        "sys.path.insert(0, my_path)\n"
      ],
      "execution_count": null,
      "outputs": [
        {
          "output_type": "stream",
          "text": [
            "Mounted at /content/drive\n"
          ],
          "name": "stdout"
        }
      ]
    },
    {
      "cell_type": "code",
      "metadata": {
        "id": "1DAFy5c7ydzC"
      },
      "source": [
        "from keras import models\n",
        "from keras import layers\n",
        "from keras import optimizers, losses, metrics\n",
        "from keras import preprocessing\n",
        "\n",
        "import numpy as np\n",
        "import pandas as pd\n",
        "import matplotlib.pyplot as plt\n",
        "import os\n",
        "import re\n",
        "\n",
        "from konlpy.tag import Okt"
      ],
      "execution_count": null,
      "outputs": []
    },
    {
      "cell_type": "markdown",
      "metadata": {
        "id": "7LgTtkPYydzF"
      },
      "source": [
        "<br>\n",
        "<br>\n",
        "# 데이터 로드"
      ]
    },
    {
      "cell_type": "markdown",
      "metadata": {
        "id": "pC7BFWmDydzF"
      },
      "source": [
        "Seq2Seq에서의 임베딩이 이전 예제와 다른 점은 아래와 같이 태그를 사용한다는 것입니다. 임베딩의 0~3번째에 각각 PADDING, START, END, OOV 태그를 넣습니다. 사실 그냥 똑같은 단어라고 보시면 됩니다. 다만 이 단어들이 Seq2Seq의 동작을 제어합니다. \n",
        "\n",
        "예를 들어, 디코더 입력에 START가 들어가면 디코딩의 시작을 의미합니다. 반대로 디코더 출력에 END가 나오면 디코딩을 종료합니다.\n",
        "<br>\n",
        "<br>\n",
        "<br>"
      ]
    },
    {
      "cell_type": "code",
      "metadata": {
        "id": "P9YUdE1OydzG"
      },
      "source": [
        "import numpy as np\n",
        "import pandas as pd\n",
        "import matplotlib.pyplot as plt\n",
        "import os\n",
        "import re\n",
        "# 태그 단어\n",
        "PAD = \"<PADDING>\"   # 패딩\n",
        "STA = \"<START>\"     # 시작\n",
        "END = \"<END>\"       # 끝\n",
        "OOV = \"<OOV>\"       # 없는 단어(Out of Vocabulary)\n",
        "\n",
        "# 태그 인덱스\n",
        "PAD_INDEX = 0\n",
        "STA_INDEX = 1\n",
        "END_INDEX = 2\n",
        "OOV_INDEX = 3\n",
        "\n",
        "# 데이터 타입\n",
        "ENCODER_INPUT  = 0\n",
        "DECODER_INPUT  = 1\n",
        "DECODER_TARGET = 2\n",
        "\n",
        "# 한 문장에서 단어 시퀀스의 최대 개수\n",
        "max_sequences = 30\n",
        "\n",
        "# 임베딩 벡터 차원\n",
        "embedding_dim = 100\n",
        "\n",
        "# LSTM 히든레이어 차원\n",
        "lstm_hidden_dim = 128\n",
        "\n",
        "# 정규 표현식 필터\n",
        "RE_FILTER = re.compile(\"[.,!?\\\"':;~()]\")\n",
        "\n",
        "# # 챗봇 데이터 로드\n",
        "# chatbot_data = pd.read_csv('./dataset/chatbot/ChatbotData.csv', encoding='utf-8')\n",
        "# question, answer = list(chatbot_data['Q']), list(chatbot_data['A'])"
      ],
      "execution_count": null,
      "outputs": []
    },
    {
      "cell_type": "code",
      "metadata": {
        "id": "NEHDnPXNzZlM",
        "outputId": "1e0e28d1-e018-47ef-87fc-ac7b56d4ccd7",
        "colab": {
          "base_uri": "https://localhost:8080/",
          "height": 69
        }
      },
      "source": [
        "wear_data = pd.read_csv(\"/content/drive/My Drive/자연어처리,추천/NLPer/chatbot_pra/wear.csv\")\n",
        "print(wear_data.shape)\n",
        "customer = wear_data[wear_data.SPEAKER == \"고객\"].SENTENCE\n",
        "store = wear_data[wear_data.SPEAKER == \"점원\"].SENTENCE\n",
        "print(customer.shape, store.shape) # 질문의 개수와 답의 개수가 일치하지 않는다.\n",
        "store.head()\n",
        "print(type(wear_data))"
      ],
      "execution_count": null,
      "outputs": [
        {
          "output_type": "stream",
          "text": [
            "(15826, 20)\n",
            "(8381,) (7445,)\n",
            "<class 'pandas.core.frame.DataFrame'>\n"
          ],
          "name": "stdout"
        }
      ]
    },
    {
      "cell_type": "code",
      "metadata": {
        "id": "FLNSiqcHM4WY",
        "outputId": "3591f13e-b6da-45d1-d64c-a87cf5cfa975",
        "colab": {
          "base_uri": "https://localhost:8080/",
          "height": 86
        }
      },
      "source": [
        "prev = \"고객\"\n",
        "store_arr = []\n",
        "customer_arr = []\n",
        "store_stc = \"\"\n",
        "customer_stc = \"\"\n",
        "\n",
        "for i in range(wear_data.shape[0]):\n",
        "    if (prev == wear_data.iloc[i].SPEAKER):\n",
        "        if prev == \"점원\":\n",
        "             store_stc += (\" \"+wear_data.iloc[i].SENTENCE)\n",
        "        else : \n",
        "            customer_stc += (\" \"+wear_data.iloc[i].SENTENCE)\n",
        "            \n",
        "    elif prev == \"점원\":\n",
        "        store_arr.append(store_stc)\n",
        "        customer_stc = wear_data.iloc[i].SENTENCE\n",
        "        prev = \"고객\"\n",
        "    else :\n",
        "        customer_arr.append(customer_stc)\n",
        "        store_stc = wear_data.iloc[i].SENTENCE\n",
        "        prev = \"점원\"\n",
        "\n",
        "print(len(store_arr))\n",
        "print(len(customer_arr))\n",
        "print(store_arr[-1])\n",
        "print(customer_arr[-1]) # 자료 상에서 이후에는 계속 고객의 물음만 계속된다. 코드 레벨에서 이 부분은 빼게 구현했다. (stc는 만들어지지만 arr에 append 안하게 된다.)"
      ],
      "execution_count": null,
      "outputs": [
        {
          "output_type": "stream",
          "text": [
            "7301\n",
            "7301\n",
            "요즘 파스텔 톤이 유행이에요\n",
            "요즘 유행하는 색깔이 뭐예요?\n"
          ],
          "name": "stdout"
        }
      ]
    },
    {
      "cell_type": "code",
      "metadata": {
        "id": "WNvig2FMzjXj"
      },
      "source": [
        "question = []\n",
        "answer = []\n",
        "\n",
        "for Q in customer_arr:\n",
        "    question.append(Q.replace(\"[^\\w]\", \" \"))\n",
        "\n",
        "for A in store_arr:\n",
        "    answer.append(A.replace(\"[^\\w]\", \" \"))\n"
      ],
      "execution_count": null,
      "outputs": []
    },
    {
      "cell_type": "markdown",
      "metadata": {
        "id": "aWHDxVorydzI"
      },
      "source": [
        "챗봇의 훈련을 위해서 송영숙님이 공개한 한글 데이터셋을 로드합니다. 질문과 대답, 감정 등 총 3개의 항목으로 구성되어 있습니다. 감정 분류는 Seq2Seq에 필요가 없기 때문에 사용하지 않습니다.\n",
        "\n",
        "https://github.com/songys/Chatbot_data\n",
        "<br>\n",
        "<br>\n",
        "<br>"
      ]
    },
    {
      "cell_type": "code",
      "metadata": {
        "id": "n2SZf0vpydzI",
        "outputId": "357af8b2-6edb-453c-97c2-936de3168918",
        "colab": {
          "base_uri": "https://localhost:8080/",
          "height": 34
        }
      },
      "source": [
        "# 데이터 개수\n",
        "len(question), len(answer)\n"
      ],
      "execution_count": null,
      "outputs": [
        {
          "output_type": "execute_result",
          "data": {
            "text/plain": [
              "(7301, 7301)"
            ]
          },
          "metadata": {
            "tags": []
          },
          "execution_count": 7
        }
      ]
    },
    {
      "cell_type": "code",
      "metadata": {
        "id": "L-3fp36UydzK",
        "outputId": "1b5dbe5b-79ad-4c67-dbe9-392e1f65c76d",
        "colab": {
          "base_uri": "https://localhost:8080/",
          "height": 540
        }
      },
      "source": [
        "# 챗봇 데이터 출력\n",
        "for i in range(10):\n",
        "    print('Q : ' + question[i])\n",
        "    print('A : ' + answer[i])\n",
        "    print()\n"
      ],
      "execution_count": null,
      "outputs": [
        {
          "output_type": "stream",
          "text": [
            "Q :  신발은 여기 있는 게 다예요?\n",
            "A : 네 성인이나 아동 다 있어요 발 사이즈 몇 신으세요?\n",
            "\n",
            "Q : 230이요\n",
            "A : 편하게 신을 수 있는 거 찾으세요?\n",
            "\n",
            "Q : 네 봄이니까 편하게 신을 수 있는 거\n",
            "A : 이런 건 어떠세요? 이런 거도 신발 무척 편하거든요\n",
            "\n",
            "Q : 굽 좀 높은 거 없나요?\n",
            "A : 봄 상품은 아직 어른 제품이 많이 안나왔습니다\n",
            "\n",
            "Q : 언제 들어와요?\n",
            "A : 이번주 지나면 들어올 거예요\n",
            "\n",
            "Q : 이거는 가죽이에요?\n",
            "A : 가죽 아니고 쎄무예요\n",
            "\n",
            "Q : 가죽은 얼마예요?\n",
            "A : 2만 9천 원입니다\n",
            "\n",
            "Q : 털 달린 거 저거는 사이즈 있어요?\n",
            "A : 230이 없어요  이거 한 번 신어보세요\n",
            "\n",
            "Q : 좀 크네 또 안 들어와요?\n",
            "A : 네 이건 다 끝났어요\n",
            "\n",
            "Q : 가방 매는 거 보고 있어요\n",
            "A : 여기 있어요\n",
            "\n"
          ],
          "name": "stdout"
        }
      ]
    },
    {
      "cell_type": "markdown",
      "metadata": {
        "id": "90yyqX2NydzM"
      },
      "source": [
        "<br>\n",
        "<br>\n",
        "# 단어 사전 생성"
      ]
    },
    {
      "cell_type": "code",
      "metadata": {
        "id": "qbivSckMydzN"
      },
      "source": [
        "# 형태소분석 함수\n",
        "def pos_tag(sentences):\n",
        "    \n",
        "    # KoNLPy 형태소분석기 설정\n",
        "    tagger = Okt()\n",
        "    \n",
        "    # 문장 품사 변수 초기화\n",
        "    sentences_pos = []\n",
        "    \n",
        "    # 모든 문장 반복\n",
        "    for sentence in sentences:\n",
        "        # 특수기호 제거\n",
        "        sentence = re.sub(RE_FILTER, \"\", sentence)\n",
        "        \n",
        "        # 배열인 형태소분석의 출력을 띄어쓰기로 구분하여 붙임\n",
        "        sentence = \" \".join(tagger.morphs(sentence))\n",
        "        sentences_pos.append(sentence)\n",
        "        \n",
        "    return sentences_pos"
      ],
      "execution_count": null,
      "outputs": []
    },
    {
      "cell_type": "markdown",
      "metadata": {
        "id": "-9_ranEhydzP"
      },
      "source": [
        "문장을 먼저 최소 단위인 토큰으로 나누어야 합니다. 한글 문장이라면 보통 KoNLPy(코엔엘파이)를 통해 형태소분석을 적용합니다. Hannanum, Kkma, Komoran, Mecab, Okt(Twitter) 등 여러가지 라이브러리를 동일한 인터페이스로 실행이 가능합니다.\n",
        "\n",
        "KoNLPy는 자바로 구현이 되어 있습니다. 맥OS와 달리 윈도우 아나콘다는 아래와 같은 작업을 거쳐야 합니다.\n",
        "\n",
        "< 1. 자바 설치 ><br>\n",
        "커맨드창에서 'java -version' 명령어를 실행하여 버전이 1.7 이상이어야 합니다.\n",
        "\n",
        "< 2. JPype1 설치 ><br>\n",
        "파이썬에서 자바를 호출할 수 있는 라이브러리입니다.\n",
        "\n",
        "< 3. KoNLPy 설치 ><br>\n",
        "위의 두 가지가 미리 완료되어 있어야만 가능합니다.\n",
        "\n",
        "아래 링크에서 좀 더 자세한 방법을 확인하시기 바랍니다.<br>\n",
        "-> https://ericnjennifer.github.io/python_visualization/2018/01/21/PythonVisualization_Chapt1.html\n",
        "<br>\n",
        "<br>\n",
        "<br>"
      ]
    },
    {
      "cell_type": "code",
      "metadata": {
        "id": "4seqSNWcydzP",
        "outputId": "1dbbb609-5d12-4db3-bc0d-d4f066c57cad",
        "colab": {
          "base_uri": "https://localhost:8080/",
          "height": 540
        }
      },
      "source": [
        "# 형태소분석 수행\n",
        "question = pos_tag(question)\n",
        "answer = pos_tag(answer)\n",
        "\n",
        "# 형태소분석으로 변환된 챗봇 데이터 출력\n",
        "for i in range(10):\n",
        "    print('Q : ' + question[i])\n",
        "    print('A : ' + answer[i])\n",
        "    print()\n"
      ],
      "execution_count": null,
      "outputs": [
        {
          "output_type": "stream",
          "text": [
            "Q : 신발 은 여기 있는 게 다예 요\n",
            "A : 네 성인 이나 아동 다 있어요 발 사이즈 몇 신으세요\n",
            "\n",
            "Q : 230 이요\n",
            "A : 편하게 신 을 수 있는 거 찾으세요\n",
            "\n",
            "Q : 네 봄 이니까 편하게 신 을 수 있는 거\n",
            "A : 이런 건 어떠세요 이런 거도 신발 무척 편하거든요\n",
            "\n",
            "Q : 굽 좀 높은 거 없나요\n",
            "A : 봄 상품 은 아직 어른 제품 이 많이 안 나왔습니다\n",
            "\n",
            "Q : 언제 들어와요\n",
            "A : 이번 주 지나면 들어올 거 예요\n",
            "\n",
            "Q : 이 거 는 가죽 이에요\n",
            "A : 가죽 아니고 쎄 무예 요\n",
            "\n",
            "Q : 가죽 은 얼마 예요\n",
            "A : 2만 9천 원 입니다\n",
            "\n",
            "Q : 털 달린 거 저 거 는 사이즈 있어요\n",
            "A : 230 이 없어요 이 거 한 번 신어 보세요\n",
            "\n",
            "Q : 좀 크네 또 안 들어와요\n",
            "A : 네 이건 다 끝났어요\n",
            "\n",
            "Q : 가방 매는 거 보고 있어요\n",
            "A : 여기 있어요\n",
            "\n"
          ],
          "name": "stdout"
        }
      ]
    },
    {
      "cell_type": "code",
      "metadata": {
        "id": "x3HFwDEOYJkx"
      },
      "source": [
        "import pickle\n",
        "\n",
        "# save\n",
        "with open('question.pickle', 'wb') as f:\n",
        "    pickle.dump(question, f, pickle.HIGHEST_PROTOCOL)\n",
        "\n",
        "with open('answer.pickle', 'wb') as f:\n",
        "    pickle.dump(answer, f, pickle.HIGHEST_PROTOCOL)"
      ],
      "execution_count": null,
      "outputs": []
    },
    {
      "cell_type": "code",
      "metadata": {
        "id": "wgQ48eXm10Fu",
        "outputId": "fdc8cb3b-09d1-4b93-f8e9-2fc29fdc1d53",
        "colab": {
          "base_uri": "https://localhost:8080/",
          "height": 34
        }
      },
      "source": [
        "from google.colab import drive\n",
        "drive.mount('/content/drive')"
      ],
      "execution_count": null,
      "outputs": [
        {
          "output_type": "stream",
          "text": [
            "Mounted at /content/drive\n"
          ],
          "name": "stdout"
        }
      ]
    },
    {
      "cell_type": "code",
      "metadata": {
        "id": "0pWliDiw2LKy"
      },
      "source": [
        "import pickle\n",
        "from keras import models\n",
        "from keras import layers\n",
        "from keras import optimizers, losses, metrics\n",
        "from keras import preprocessing\n",
        "\n",
        "\n",
        "with open('/content/drive/My Drive/자연어처리,추천/NLPer/chatbot_pra/pickle/answer_j.pickle', 'rb') as f:\n",
        "    answer = pickle.load(f)\n",
        "\n",
        "with open('/content/drive/My Drive/자연어처리,추천/NLPer/chatbot_pra/pickle/question_j.pickle', 'rb') as f:\n",
        "    question = pickle.load(f)"
      ],
      "execution_count": null,
      "outputs": []
    },
    {
      "cell_type": "code",
      "metadata": {
        "id": "Tw7U0IXdWD33",
        "outputId": "1434c449-db81-442b-ef68-460a61428c20",
        "colab": {
          "base_uri": "https://localhost:8080/",
          "height": 34
        }
      },
      "source": [
        "tokenized_Q = question\n",
        "tokenized_A = answer\n",
        "print(len(tokenized_Q))"
      ],
      "execution_count": null,
      "outputs": [
        {
          "output_type": "stream",
          "text": [
            "7301\n"
          ],
          "name": "stdout"
        }
      ]
    },
    {
      "cell_type": "code",
      "metadata": {
        "id": "XkqjmAkV65Ew",
        "outputId": "7466b0de-cb5c-4e10-b7ac-8b688b85b8c1",
        "colab": {
          "base_uri": "https://localhost:8080/",
          "height": 34
        }
      },
      "source": [
        "from gensim.models import Word2Vec\n",
        "model_Q = Word2Vec(sentences = tokenized_Q, size = 100, window = 4, min_count = 3, workers = 4, sg = 0)\n",
        "model_Q.wv.vectors.shape"
      ],
      "execution_count": null,
      "outputs": [
        {
          "output_type": "execute_result",
          "data": {
            "text/plain": [
              "(635, 100)"
            ]
          },
          "metadata": {
            "tags": []
          },
          "execution_count": 13
        }
      ]
    },
    {
      "cell_type": "code",
      "metadata": {
        "id": "9u08uv3nL5ji",
        "outputId": "63e97bd4-600c-4c84-d945-df822b4687bb",
        "colab": {
          "base_uri": "https://localhost:8080/",
          "height": 34
        }
      },
      "source": [
        "from gensim.models import Word2Vec\n",
        "model_A = Word2Vec(sentences = tokenized_A, size = 100, window = 4, min_count = 3, workers = 4, sg = 0)\n",
        "model_A.wv.vectors.shape"
      ],
      "execution_count": null,
      "outputs": [
        {
          "output_type": "execute_result",
          "data": {
            "text/plain": [
              "(637, 100)"
            ]
          },
          "metadata": {
            "tags": []
          },
          "execution_count": 14
        }
      ]
    },
    {
      "cell_type": "code",
      "metadata": {
        "id": "AxPy2scqMTTP",
        "outputId": "d9d73635-6fc1-4ca2-fbea-612b6a30ccd8",
        "colab": {
          "base_uri": "https://localhost:8080/",
          "height": 72
        }
      },
      "source": [
        "model_Q.save('w2v_Q.pickle')\n",
        "model_A.save('w2v_A.pickle')"
      ],
      "execution_count": null,
      "outputs": [
        {
          "output_type": "stream",
          "text": [
            "/usr/local/lib/python3.6/dist-packages/smart_open/smart_open_lib.py:252: UserWarning: This function is deprecated, use smart_open.open instead. See the migration notes for details: https://github.com/RaRe-Technologies/smart_open/blob/master/README.rst#migrating-to-the-new-open-function\n",
            "  'See the migration notes for details: %s' % _MIGRATION_NOTES_URL\n"
          ],
          "name": "stderr"
        }
      ]
    },
    {
      "cell_type": "code",
      "metadata": {
        "id": "Yrnct_nzydzR"
      },
      "source": [
        "# 질문과 대답 문장들을 하나로 합침\n",
        "sentences = []\n",
        "sentences.extend(question)\n",
        "sentences.extend(answer)\n",
        "\n",
        "words = []\n",
        "\n",
        "# 단어들의 배열 생성\n",
        "for sentence in sentences:\n",
        "    for word in sentence.split():\n",
        "        words.append(word)\n",
        "\n",
        "# 길이가 0인 단어는 삭제\n",
        "words = [word for word in words if len(word) > 0]\n",
        "\n",
        "# 중복된 단어 삭제\n",
        "words = list(set(words))\n",
        "\n",
        "# 제일 앞에 태그 단어 삽입\n",
        "words[:0] = [PAD, STA, END, OOV]"
      ],
      "execution_count": null,
      "outputs": []
    },
    {
      "cell_type": "markdown",
      "metadata": {
        "id": "6jqgjg0dydzT"
      },
      "source": [
        "질문과 대답 문장들을 합쳐서 전체 단어 사전을 만듭니다. 자연어처리에서는 항상 이렇게 단어를 인덱스에 따라 정리를 해야 합니다. 그래야지 문장을 인덱스 배열로 바꿔서 임베딩 레이어에 넣을 수 있습니다. 또한 모델의 출력에서 나온 인덱스를 다시 단어로 변환하는데도 필요합니다.\n",
        "<br>\n",
        "<br>\n",
        "<br>"
      ]
    },
    {
      "cell_type": "code",
      "metadata": {
        "id": "S_42uGRwydzT",
        "outputId": "38536a33-5616-4d4c-d3b7-2a1b3b4c363b",
        "colab": {
          "base_uri": "https://localhost:8080/",
          "height": 34
        }
      },
      "source": [
        "# 단어 개수\n",
        "len(words)\n"
      ],
      "execution_count": null,
      "outputs": [
        {
          "output_type": "execute_result",
          "data": {
            "text/plain": [
              "6403"
            ]
          },
          "metadata": {
            "tags": []
          },
          "execution_count": 17
        }
      ]
    },
    {
      "cell_type": "code",
      "metadata": {
        "id": "i0jXcjybydzV",
        "outputId": "3c33286c-78af-44b8-a548-70fd3b6aaee3",
        "colab": {
          "base_uri": "https://localhost:8080/",
          "height": 366
        }
      },
      "source": [
        "# 단어 출력\n",
        "words[:20]\n"
      ],
      "execution_count": null,
      "outputs": [
        {
          "output_type": "execute_result",
          "data": {
            "text/plain": [
              "['<PADDING>',\n",
              " '<START>',\n",
              " '<END>',\n",
              " '<OOV>',\n",
              " '간단한',\n",
              " '하는고',\n",
              " '든다',\n",
              " '거시',\n",
              " '별도',\n",
              " '해드릴께요',\n",
              " '가타',\n",
              " '할수는',\n",
              " '좋아하시겠네요',\n",
              " '총',\n",
              " '그렇구나',\n",
              " '9시',\n",
              " '수박',\n",
              " '어린',\n",
              " '나오네요',\n",
              " '시내']"
            ]
          },
          "metadata": {
            "tags": []
          },
          "execution_count": 18
        }
      ]
    },
    {
      "cell_type": "code",
      "metadata": {
        "id": "AkvyOnSvydzX"
      },
      "source": [
        "# 단어와 인덱스의 딕셔너리 생성\n",
        "word_to_index = {word: index for index, word in enumerate(words)}\n",
        "index_to_word = {index: word for index, word in enumerate(words)}"
      ],
      "execution_count": null,
      "outputs": []
    },
    {
      "cell_type": "code",
      "metadata": {
        "id": "7mtg_O17ydzY",
        "outputId": "2d68ff1b-8efa-46bd-bd69-47c65aaf1d10",
        "colab": {
          "base_uri": "https://localhost:8080/",
          "height": 366
        }
      },
      "source": [
        "# 단어 -> 인덱스\n",
        "# 문장을 인덱스로 변환하여 모델 입력으로 사용\n",
        "dict(list(word_to_index.items())[:20])\n"
      ],
      "execution_count": null,
      "outputs": [
        {
          "output_type": "execute_result",
          "data": {
            "text/plain": [
              "{'9시': 15,\n",
              " '<END>': 2,\n",
              " '<OOV>': 3,\n",
              " '<PADDING>': 0,\n",
              " '<START>': 1,\n",
              " '가타': 10,\n",
              " '간단한': 4,\n",
              " '거시': 7,\n",
              " '그렇구나': 14,\n",
              " '나오네요': 18,\n",
              " '든다': 6,\n",
              " '별도': 8,\n",
              " '수박': 16,\n",
              " '시내': 19,\n",
              " '어린': 17,\n",
              " '좋아하시겠네요': 12,\n",
              " '총': 13,\n",
              " '하는고': 5,\n",
              " '할수는': 11,\n",
              " '해드릴께요': 9}"
            ]
          },
          "metadata": {
            "tags": []
          },
          "execution_count": 20
        }
      ]
    },
    {
      "cell_type": "code",
      "metadata": {
        "id": "LeOdJJzFydza",
        "outputId": "02fe29a2-a975-4e09-b9f4-2454d1fe687e",
        "colab": {
          "base_uri": "https://localhost:8080/",
          "height": 366
        }
      },
      "source": [
        "# 인덱스 -> 단어\n",
        "# 모델의 예측 결과인 인덱스를 문장으로 변환시 사용\n",
        "dict(list(index_to_word.items())[:20])\n"
      ],
      "execution_count": null,
      "outputs": [
        {
          "output_type": "execute_result",
          "data": {
            "text/plain": [
              "{0: '<PADDING>',\n",
              " 1: '<START>',\n",
              " 2: '<END>',\n",
              " 3: '<OOV>',\n",
              " 4: '간단한',\n",
              " 5: '하는고',\n",
              " 6: '든다',\n",
              " 7: '거시',\n",
              " 8: '별도',\n",
              " 9: '해드릴께요',\n",
              " 10: '가타',\n",
              " 11: '할수는',\n",
              " 12: '좋아하시겠네요',\n",
              " 13: '총',\n",
              " 14: '그렇구나',\n",
              " 15: '9시',\n",
              " 16: '수박',\n",
              " 17: '어린',\n",
              " 18: '나오네요',\n",
              " 19: '시내'}"
            ]
          },
          "metadata": {
            "tags": []
          },
          "execution_count": 21
        }
      ]
    },
    {
      "cell_type": "markdown",
      "metadata": {
        "id": "laHDWqm5ydzc"
      },
      "source": [
        "<br>\n",
        "<br>\n",
        "# 전처리"
      ]
    },
    {
      "cell_type": "code",
      "metadata": {
        "id": "rfoTztrvydzc"
      },
      "source": [
        "# 문장을 인덱스로 변환\n",
        "def convert_text_to_index(sentences, vocabulary, type): \n",
        "    \n",
        "    sentences_index = []\n",
        "    \n",
        "    # 모든 문장에 대해서 반복\n",
        "    for sentence in sentences:\n",
        "        sentence_index = []\n",
        "        \n",
        "        # 디코더 입력일 경우 맨 앞에 START 태그 추가\n",
        "        if type == DECODER_INPUT:\n",
        "            sentence_index.extend([vocabulary[STA]])\n",
        "        \n",
        "        # 문장의 단어들을 띄어쓰기로 분리\n",
        "        for word in sentence.split():\n",
        "            if vocabulary.get(word) is not None:\n",
        "                # 사전에 있는 단어면 해당 인덱스를 추가\n",
        "                sentence_index.extend([vocabulary[word]])\n",
        "            else:\n",
        "                # 사전에 없는 단어면 OOV 인덱스를 추가\n",
        "                sentence_index.extend([vocabulary[OOV]])\n",
        "\n",
        "        # 최대 길이 검사\n",
        "        if type == DECODER_TARGET:\n",
        "            # 디코더 목표일 경우 맨 뒤에 END 태그 추가\n",
        "            if len(sentence_index) >= max_sequences:\n",
        "                sentence_index = sentence_index[:max_sequences-1] + [vocabulary[END]]\n",
        "            else:\n",
        "                sentence_index += [vocabulary[END]]\n",
        "        else:\n",
        "            if len(sentence_index) > max_sequences:\n",
        "                sentence_index = sentence_index[:max_sequences]\n",
        "            \n",
        "        # 최대 길이에 없는 공간은 패딩 인덱스로 채움\n",
        "        sentence_index += (max_sequences - len(sentence_index)) * [vocabulary[PAD]]\n",
        "        \n",
        "        # 문장의 인덱스 배열을 추가\n",
        "        sentences_index.append(sentence_index)\n",
        "\n",
        "    return np.asarray(sentences_index)"
      ],
      "execution_count": null,
      "outputs": []
    },
    {
      "cell_type": "markdown",
      "metadata": {
        "id": "-WC7ivgtydze"
      },
      "source": [
        "Seq2Seq에서는 학습시 다음과 같이 총 3개의 데이터가 필요합니다.\n",
        "\n",
        "인코더 입력 : 12시 땡<br>\n",
        "디코더 입력 : START 하루 가 또 가네요<br>\n",
        "디코더 출력 : 하루 가 또 가네요 END\n",
        "\n",
        "원래 Seq2Seq는 디코더의 현재 출력이 디코더의 다음 입력으로 들어갑니다. 다만 학습에서는 굳이 이렇게 하지 않고 디코더 입력과 디코더 출력의 데이터를 각각 만듭니다. \n",
        "\n",
        "그러나 예측시에는 이런 방식이 불가능합니다. 출력값을 미리 알지 못하기 때문에, 디코더 입력을 사전에 생성할 수가 없습니다. 이런 문제를 해결하기 위해 훈련 모델과 예측 모델을 따로 구성해야 합니다. 모델 생성 부분에서 다시 자세히 설명을 드리겠습니다.\n",
        "<br>\n",
        "<br>\n",
        "<br>"
      ]
    },
    {
      "cell_type": "code",
      "metadata": {
        "id": "zezFPTvcydzf",
        "outputId": "61b95825-7da8-424f-9ba9-4727fb96793d",
        "colab": {
          "base_uri": "https://localhost:8080/",
          "height": 72
        }
      },
      "source": [
        "# 인코더 입력 인덱스 변환\n",
        "x_encoder = convert_text_to_index(question, word_to_index, ENCODER_INPUT)\n",
        "\n",
        "# 첫 번째 인코더 입력 출력 (12시 땡)\n",
        "x_encoder[0]\n"
      ],
      "execution_count": null,
      "outputs": [
        {
          "output_type": "execute_result",
          "data": {
            "text/plain": [
              "array([2433, 5267,   36, 4280, 3254,  106,  660,    0,    0,    0,    0,\n",
              "          0,    0,    0,    0,    0,    0,    0,    0,    0,    0,    0,\n",
              "          0,    0,    0,    0,    0,    0,    0,    0])"
            ]
          },
          "metadata": {
            "tags": []
          },
          "execution_count": 18
        }
      ]
    },
    {
      "cell_type": "code",
      "metadata": {
        "id": "fmql1Lf_ydzh",
        "outputId": "fde0a5e0-8e8d-45a1-d83f-4e9ed7b4a04e",
        "colab": {
          "base_uri": "https://localhost:8080/",
          "height": 72
        }
      },
      "source": [
        "# 디코더 입력 인덱스 변환\n",
        "x_decoder = convert_text_to_index(answer, word_to_index, DECODER_INPUT)\n",
        "\n",
        "# 첫 번째 디코더 입력 출력 (START 하루 가 또 가네요)\n",
        "x_decoder[0]\n"
      ],
      "execution_count": null,
      "outputs": [
        {
          "output_type": "execute_result",
          "data": {
            "text/plain": [
              "array([   1, 5816, 2312, 1635, 1460, 1506, 5292, 4857, 3251, 6184, 5761,\n",
              "          0,    0,    0,    0,    0,    0,    0,    0,    0,    0,    0,\n",
              "          0,    0,    0,    0,    0,    0,    0,    0])"
            ]
          },
          "metadata": {
            "tags": []
          },
          "execution_count": 19
        }
      ]
    },
    {
      "cell_type": "code",
      "metadata": {
        "id": "-qIhDbaLydzk",
        "outputId": "c7a8879d-99b8-44fe-829b-5403b7ed3a8d",
        "colab": {
          "base_uri": "https://localhost:8080/",
          "height": 72
        }
      },
      "source": [
        "# 디코더 목표 인덱스 변환\n",
        "y_decoder = convert_text_to_index(answer, word_to_index, DECODER_TARGET)\n",
        "\n",
        "# 첫 번째 디코더 목표 출력 (하루 가 또 가네요 END)\n",
        "y_decoder[0]\n"
      ],
      "execution_count": null,
      "outputs": [
        {
          "output_type": "execute_result",
          "data": {
            "text/plain": [
              "array([5816, 2312, 1635, 1460, 1506, 5292, 4857, 3251, 6184, 5761,    2,\n",
              "          0,    0,    0,    0,    0,    0,    0,    0,    0,    0,    0,\n",
              "          0,    0,    0,    0,    0,    0,    0,    0])"
            ]
          },
          "metadata": {
            "tags": []
          },
          "execution_count": 20
        }
      ]
    },
    {
      "cell_type": "code",
      "metadata": {
        "id": "j5wrgGhCydzm",
        "outputId": "29834477-7cbd-4b11-8c61-41ffe3f2bab9",
        "colab": {
          "base_uri": "https://localhost:8080/",
          "height": 145
        }
      },
      "source": [
        "# 원핫인코딩 초기화\n",
        "one_hot_data = np.zeros((len(y_decoder), max_sequences, len(words)))\n",
        "\n",
        "# 디코더 목표를 원핫인코딩으로 변환\n",
        "# 학습시 입력은 인덱스이지만, 출력은 원핫인코딩 형식임\n",
        "for i, sequence in enumerate(y_decoder):\n",
        "    for j, index in enumerate(sequence):\n",
        "        one_hot_data[i, j, index] = 1\n",
        "\n",
        "# 디코더 목표 설정\n",
        "y_decoder = one_hot_data\n",
        "\n",
        "# 첫 번째 디코더 목표 출력\n",
        "y_decoder[0]"
      ],
      "execution_count": null,
      "outputs": [
        {
          "output_type": "execute_result",
          "data": {
            "text/plain": [
              "array([[0., 0., 0., ..., 0., 0., 0.],\n",
              "       [0., 0., 0., ..., 0., 0., 0.],\n",
              "       [0., 0., 0., ..., 0., 0., 0.],\n",
              "       ...,\n",
              "       [1., 0., 0., ..., 0., 0., 0.],\n",
              "       [1., 0., 0., ..., 0., 0., 0.],\n",
              "       [1., 0., 0., ..., 0., 0., 0.]])"
            ]
          },
          "metadata": {
            "tags": []
          },
          "execution_count": 21
        }
      ]
    },
    {
      "cell_type": "markdown",
      "metadata": {
        "id": "Y0latL62ydzo"
      },
      "source": [
        "인코더 입력과 디코더 입력은 임베딩 레이어에 들어가는 인덱스 배열입니다. 반면에 디코더 출력은 원핫인코딩 형식이 되어야 합니다. 디코더의 마지막 Dense 레이어에서 softmax로 나오기 때문입니다."
      ]
    },
    {
      "cell_type": "markdown",
      "metadata": {
        "id": "Pav-8Jd3ydzp"
      },
      "source": [
        "<br>\n",
        "<br>\n",
        "# 모델 생성"
      ]
    },
    {
      "cell_type": "code",
      "metadata": {
        "id": "I8y-mjWtydzp",
        "outputId": "50bca3b6-ce8d-42f7-b625-564b72c08d90",
        "colab": {
          "base_uri": "https://localhost:8080/",
          "height": 54
        }
      },
      "source": [
        "#--------------------------------------------\n",
        "# 훈련 모델 인코더 정의\n",
        "#--------------------------------------------\n",
        "\n",
        "# 입력 문장의 인덱스 시퀀스를 입력으로 받음\n",
        "encoder_inputs = layers.Input(shape=(None,))\n",
        "\n",
        "# 임베딩 레이어\n",
        "encoder_outputs = layers.Embedding(len(words), embedding_dim)(encoder_inputs)\n",
        "\n",
        "# return_state가 True면 상태값 리턴\n",
        "# LSTM은 state_h(hidden state)와 state_c(cell state) 2개의 상태 존재\n",
        "encoder_outputs, state_h, state_c = layers.LSTM(lstm_hidden_dim,\n",
        "                                                dropout=0.1,\n",
        "                                                recurrent_dropout=0.5,\n",
        "                                                return_state=True)(encoder_outputs)\n",
        "\n",
        "# 히든 상태와 셀 상태를 하나로 묶음\n",
        "encoder_states = [state_h, state_c]\n",
        "\n",
        "\n",
        "\n",
        "#--------------------------------------------\n",
        "# 훈련 모델 디코더 정의\n",
        "#--------------------------------------------\n",
        "\n",
        "# 목표 문장의 인덱스 시퀀스를 입력으로 받음\n",
        "decoder_inputs = layers.Input(shape=(None,))\n",
        "\n",
        "# 임베딩 레이어\n",
        "decoder_embedding = layers.Embedding(len(words), embedding_dim)\n",
        "decoder_outputs = decoder_embedding(decoder_inputs)\n",
        "\n",
        "# 인코더와 달리 return_sequences를 True로 설정하여 모든 타임 스텝 출력값 리턴\n",
        "# 모든 타임 스텝의 출력값들을 다음 레이어의 Dense()로 처리하기 위함\n",
        "decoder_lstm = layers.LSTM(lstm_hidden_dim,\n",
        "                           dropout=0.1,\n",
        "                           recurrent_dropout=0.5,\n",
        "                           return_state=True,\n",
        "                           return_sequences=True)\n",
        "\n",
        "# initial_state를 인코더의 상태로 초기화\n",
        "decoder_outputs, _, _ = decoder_lstm(decoder_outputs,\n",
        "                                     initial_state=encoder_states)\n",
        "\n",
        "# 단어의 개수만큼 노드의 개수를 설정하여 원핫 형식으로 각 단어 인덱스를 출력\n",
        "decoder_dense = layers.Dense(len(words), activation='softmax')\n",
        "decoder_outputs = decoder_dense(decoder_outputs)\n",
        "\n",
        "\n",
        "\n",
        "#--------------------------------------------\n",
        "# 훈련 모델 정의\n",
        "#--------------------------------------------\n",
        "\n",
        "# 입력과 출력으로 함수형 API 모델 생성\n",
        "model = models.Model([encoder_inputs, decoder_inputs], decoder_outputs)\n",
        "\n",
        "# 학습 방법 설정\n",
        "model.compile(optimizer='rmsprop',\n",
        "              loss='categorical_crossentropy',\n",
        "              metrics=['accuracy'])    "
      ],
      "execution_count": null,
      "outputs": [
        {
          "output_type": "stream",
          "text": [
            "WARNING:tensorflow:Layer lstm will not use cuDNN kernel since it doesn't meet the cuDNN kernel criteria. It will use generic GPU kernel as fallback when running on GPU\n",
            "WARNING:tensorflow:Layer lstm_1 will not use cuDNN kernel since it doesn't meet the cuDNN kernel criteria. It will use generic GPU kernel as fallback when running on GPU\n"
          ],
          "name": "stdout"
        }
      ]
    },
    {
      "cell_type": "markdown",
      "metadata": {
        "id": "Am9Xl8Fkydzq"
      },
      "source": [
        "지금까지의 예제는 Sequential 방식의 모델이었습니다. 하지만 이번에는 함수형 API 모델을 사용했습니다. 인코더와 디코더가 따로 분리되어야 하는데, 단순히 레이어를 추가하여 붙이는 순차형으로는 구현이 불가능하기 때문입니다. \n",
        "\n",
        "Model() 함수로 입력과 출력을 따로 설정하여 모델을 만듭니다. 그다음 compile과 fit은 이전과 동일하게 적용하시면 됩니다.\n",
        "<br>\n",
        "<br>\n",
        "<br>"
      ]
    },
    {
      "cell_type": "code",
      "metadata": {
        "id": "N1bkvRU0ydzr"
      },
      "source": [
        "#--------------------------------------------\n",
        "#  예측 모델 인코더 정의\n",
        "#--------------------------------------------\n",
        "\n",
        "# 훈련 모델의 인코더 상태를 사용하여 예측 모델 인코더 설정\n",
        "encoder_model = models.Model(encoder_inputs, encoder_states)\n",
        "\n",
        "\n",
        "\n",
        "#--------------------------------------------\n",
        "# 예측 모델 디코더 정의\n",
        "#--------------------------------------------\n",
        "\n",
        "# 예측시에는 훈련시와 달리 타임 스텝을 한 단계씩 수행\n",
        "# 매번 이전 디코더 상태를 입력으로 받아서 새로 설정\n",
        "decoder_state_input_h = layers.Input(shape=(lstm_hidden_dim,))\n",
        "decoder_state_input_c = layers.Input(shape=(lstm_hidden_dim,))\n",
        "decoder_states_inputs = [decoder_state_input_h, decoder_state_input_c]    \n",
        "\n",
        "# 임베딩 레이어\n",
        "decoder_outputs = decoder_embedding(decoder_inputs)\n",
        "\n",
        "# LSTM 레이어\n",
        "decoder_outputs, state_h, state_c = decoder_lstm(decoder_outputs,\n",
        "                                                 initial_state=decoder_states_inputs)\n",
        "\n",
        "# 히든 상태와 셀 상태를 하나로 묶음\n",
        "decoder_states = [state_h, state_c]\n",
        "\n",
        "# Dense 레이어를 통해 원핫 형식으로 각 단어 인덱스를 출력\n",
        "decoder_outputs = decoder_dense(decoder_outputs)\n",
        "\n",
        "# 예측 모델 디코더 설정\n",
        "decoder_model = models.Model([decoder_inputs] + decoder_states_inputs,\n",
        "                      [decoder_outputs] + decoder_states)"
      ],
      "execution_count": null,
      "outputs": []
    },
    {
      "cell_type": "markdown",
      "metadata": {
        "id": "ubnZvGdnydzs"
      },
      "source": [
        "예측 모델은 이미 학습된 훈련 모델의 레이어들을 그대로 재사용합니다. 예측 모델 인코더는 훈련 모델 인코더과 동일합니다. 그러나 예측 모델 디코더는 매번 LSTM 상태값을 입력으로 받습니다. 또한 디코더의 LSTM 상태를 출력값과 같이 내보내서, 다음 번 입력에 넣습니다. \n",
        "\n",
        "이렇게 하는 이유는 LSTM을 딱 한번의 타임 스텝만 실행하기 때문입니다. 그래서 매번 상태값을 새로 초기화 해야 합니다. 이와 반대로 훈련할때는 문장 전체를 계속 LSTM으로 돌리기 때문에 자동으로 상태값이 전달됩니다. "
      ]
    },
    {
      "cell_type": "markdown",
      "metadata": {
        "id": "QOEiyOizydzt"
      },
      "source": [
        "<br>\n",
        "<br>\n",
        "# 훈련 및 테스트"
      ]
    },
    {
      "cell_type": "code",
      "metadata": {
        "id": "Gxi2B-vjydzt"
      },
      "source": [
        "# 인덱스를 문장으로 변환\n",
        "def convert_index_to_text(indexs, vocabulary): \n",
        "    \n",
        "    sentence = ''\n",
        "    \n",
        "    # 모든 문장에 대해서 반복\n",
        "    for index in indexs:\n",
        "        if index == END_INDEX:\n",
        "            # 종료 인덱스면 중지\n",
        "            break;\n",
        "        if vocabulary.get(index) is not None:\n",
        "            # 사전에 있는 인덱스면 해당 단어를 추가\n",
        "            sentence += vocabulary[index]\n",
        "        else:\n",
        "            # 사전에 없는 인덱스면 OOV 단어를 추가\n",
        "            sentence.extend([vocabulary[OOV_INDEX]])\n",
        "            \n",
        "        # 빈칸 추가\n",
        "        sentence += ' '\n",
        "\n",
        "    return sentence"
      ],
      "execution_count": null,
      "outputs": []
    },
    {
      "cell_type": "code",
      "metadata": {
        "id": "DeEaQyYRydzv",
        "outputId": "bcd31672-c71d-4d4f-9720-c8356e629b93",
        "colab": {
          "base_uri": "https://localhost:8080/",
          "height": 1000
        }
      },
      "source": [
        "# 에폭 반복\n",
        "for epoch in range(20):\n",
        "    print('Total Epoch :', epoch + 1)\n",
        "\n",
        "   \n",
        "    # 훈련 시작\n",
        "    history = model.fit([x_encoder, x_decoder],\n",
        "                        y_decoder,\n",
        "                        epochs=10,\n",
        "                        batch_size=64,\n",
        "                        verbose=1)\n",
        "    \n",
        "    # 정확도와 손실 출력\n",
        "    # print('accuracy :', history.history['acc'][-1])\n",
        "    # print('loss :', history.history['loss'][-1])\n",
        "    \n",
        "    # 문장 예측 테스트\n",
        "    # (3 박 4일 놀러 가고 싶다) -> (여행 은 언제나 좋죠)\n",
        "    input_encoder = x_encoder[2].reshape(1, x_encoder[2].shape[0])\n",
        "    input_decoder = x_decoder[2].reshape(1, x_decoder[2].shape[0])\n",
        "    results = model.predict([input_encoder, input_decoder])\n",
        "    \n",
        "    # 결과의 원핫인코딩 형식을 인덱스로 변환\n",
        "    # 1축을 기준으로 가장 높은 값의 위치를 구함\n",
        "    indexs = np.argmax(results[0], 1) \n",
        "    \n",
        "    # 인덱스를 문장으로 변환\n",
        "    sentence = convert_index_to_text(indexs, index_to_word)\n",
        "    print(sentence)\n",
        "    print()\n",
        "\n"
      ],
      "execution_count": null,
      "outputs": [
        {
          "output_type": "stream",
          "text": [
            "Total Epoch : 1\n",
            "Epoch 1/10\n",
            "115/115 [==============================] - 24s 207ms/step - loss: 2.1391 - accuracy: 0.7737\n",
            "Epoch 2/10\n",
            "115/115 [==============================] - 24s 208ms/step - loss: 1.2797 - accuracy: 0.8146\n",
            "Epoch 3/10\n",
            "115/115 [==============================] - 24s 208ms/step - loss: 1.2154 - accuracy: 0.8189\n",
            "Epoch 4/10\n",
            "115/115 [==============================] - 24s 206ms/step - loss: 1.1803 - accuracy: 0.8216\n",
            "Epoch 5/10\n",
            "115/115 [==============================] - 24s 205ms/step - loss: 1.1485 - accuracy: 0.8251\n",
            "Epoch 6/10\n",
            "115/115 [==============================] - 24s 206ms/step - loss: 1.1180 - accuracy: 0.8290\n",
            "Epoch 7/10\n",
            "115/115 [==============================] - 24s 205ms/step - loss: 1.0890 - accuracy: 0.8331\n",
            "Epoch 8/10\n",
            "115/115 [==============================] - 24s 212ms/step - loss: 1.0610 - accuracy: 0.8369\n",
            "Epoch 9/10\n",
            "115/115 [==============================] - 24s 207ms/step - loss: 1.0351 - accuracy: 0.8398\n",
            "Epoch 10/10\n",
            "115/115 [==============================] - 24s 206ms/step - loss: 1.0129 - accuracy: 0.8420\n",
            "네 거 어떻게 \n",
            "\n",
            "Total Epoch : 2\n",
            "Epoch 1/10\n",
            "115/115 [==============================] - 24s 208ms/step - loss: 0.9932 - accuracy: 0.8437\n",
            "Epoch 2/10\n",
            "115/115 [==============================] - 23s 204ms/step - loss: 0.9750 - accuracy: 0.8454\n",
            "Epoch 3/10\n",
            "115/115 [==============================] - 24s 207ms/step - loss: 0.9595 - accuracy: 0.8472\n",
            "Epoch 4/10\n",
            "115/115 [==============================] - 24s 207ms/step - loss: 0.9453 - accuracy: 0.8486\n",
            "Epoch 5/10\n",
            "115/115 [==============================] - 23s 203ms/step - loss: 0.9310 - accuracy: 0.8498\n",
            "Epoch 6/10\n",
            "115/115 [==============================] - 23s 204ms/step - loss: 0.9187 - accuracy: 0.8510\n",
            "Epoch 7/10\n",
            "115/115 [==============================] - 24s 206ms/step - loss: 0.9062 - accuracy: 0.8525\n",
            "Epoch 8/10\n",
            "115/115 [==============================] - 24s 206ms/step - loss: 0.8947 - accuracy: 0.8534\n",
            "Epoch 9/10\n",
            "115/115 [==============================] - 24s 205ms/step - loss: 0.8839 - accuracy: 0.8544\n",
            "Epoch 10/10\n",
            "115/115 [==============================] - 24s 207ms/step - loss: 0.8728 - accuracy: 0.8557\n",
            "이 거 어떠세요 \n",
            "\n",
            "Total Epoch : 3\n",
            "Epoch 1/10\n",
            "115/115 [==============================] - 24s 212ms/step - loss: 0.8624 - accuracy: 0.8565\n",
            "Epoch 2/10\n",
            "115/115 [==============================] - 24s 208ms/step - loss: 0.8529 - accuracy: 0.8574\n",
            "Epoch 3/10\n",
            "115/115 [==============================] - 24s 207ms/step - loss: 0.8435 - accuracy: 0.8587\n",
            "Epoch 4/10\n",
            "115/115 [==============================] - 24s 208ms/step - loss: 0.8353 - accuracy: 0.8593\n",
            "Epoch 5/10\n",
            "115/115 [==============================] - 24s 208ms/step - loss: 0.8267 - accuracy: 0.8603\n",
            "Epoch 6/10\n",
            "115/115 [==============================] - 24s 206ms/step - loss: 0.8186 - accuracy: 0.8615\n",
            "Epoch 7/10\n",
            "115/115 [==============================] - 24s 206ms/step - loss: 0.8109 - accuracy: 0.8617\n",
            "Epoch 8/10\n",
            "115/115 [==============================] - 24s 204ms/step - loss: 0.8031 - accuracy: 0.8626\n",
            "Epoch 9/10\n",
            "115/115 [==============================] - 24s 206ms/step - loss: 0.7963 - accuracy: 0.8633\n",
            "Epoch 10/10\n",
            "115/115 [==============================] - 24s 206ms/step - loss: 0.7882 - accuracy: 0.8636\n",
            "이 거 어떠세요 \n",
            "\n",
            "Total Epoch : 4\n",
            "Epoch 1/10\n",
            "115/115 [==============================] - 24s 205ms/step - loss: 0.7813 - accuracy: 0.8646\n",
            "Epoch 2/10\n",
            "115/115 [==============================] - 23s 202ms/step - loss: 0.7744 - accuracy: 0.8653\n",
            "Epoch 3/10\n",
            "115/115 [==============================] - 24s 205ms/step - loss: 0.7669 - accuracy: 0.8657\n",
            "Epoch 4/10\n",
            "115/115 [==============================] - 24s 208ms/step - loss: 0.7603 - accuracy: 0.8667\n",
            "Epoch 5/10\n",
            "115/115 [==============================] - 23s 203ms/step - loss: 0.7535 - accuracy: 0.8667\n",
            "Epoch 6/10\n",
            "115/115 [==============================] - 23s 203ms/step - loss: 0.7472 - accuracy: 0.8678\n",
            "Epoch 7/10\n",
            "115/115 [==============================] - 23s 202ms/step - loss: 0.7403 - accuracy: 0.8683\n",
            "Epoch 8/10\n",
            "115/115 [==============================] - 23s 203ms/step - loss: 0.7344 - accuracy: 0.8691\n",
            "Epoch 9/10\n",
            "115/115 [==============================] - 23s 204ms/step - loss: 0.7276 - accuracy: 0.8698\n",
            "Epoch 10/10\n",
            "115/115 [==============================] - 23s 204ms/step - loss: 0.7219 - accuracy: 0.8703\n",
            "이런 거 없어요 \n",
            "\n",
            "Total Epoch : 5\n",
            "Epoch 1/10\n",
            "115/115 [==============================] - 24s 205ms/step - loss: 0.7161 - accuracy: 0.8708\n",
            "Epoch 2/10\n",
            "115/115 [==============================] - 24s 207ms/step - loss: 0.7105 - accuracy: 0.8714\n",
            "Epoch 3/10\n",
            "115/115 [==============================] - 24s 208ms/step - loss: 0.7051 - accuracy: 0.8720\n",
            "Epoch 4/10\n",
            "115/115 [==============================] - 24s 210ms/step - loss: 0.6985 - accuracy: 0.8723\n",
            "Epoch 5/10\n",
            "115/115 [==============================] - 24s 209ms/step - loss: 0.6942 - accuracy: 0.8730\n",
            "Epoch 6/10\n",
            "115/115 [==============================] - 24s 211ms/step - loss: 0.6891 - accuracy: 0.8738\n",
            "Epoch 7/10\n",
            "115/115 [==============================] - 25s 214ms/step - loss: 0.6844 - accuracy: 0.8740\n",
            "Epoch 8/10\n",
            "115/115 [==============================] - 24s 212ms/step - loss: 0.6797 - accuracy: 0.8748\n",
            "Epoch 9/10\n",
            "115/115 [==============================] - 24s 211ms/step - loss: 0.6747 - accuracy: 0.8753\n",
            "Epoch 10/10\n",
            "115/115 [==============================] - 25s 214ms/step - loss: 0.6705 - accuracy: 0.8760\n",
            "이런 거 어떠세요 \n",
            "\n",
            "Total Epoch : 6\n",
            "Epoch 1/10\n",
            "115/115 [==============================] - 24s 210ms/step - loss: 0.6658 - accuracy: 0.8768\n",
            "Epoch 2/10\n",
            "115/115 [==============================] - 24s 210ms/step - loss: 0.6610 - accuracy: 0.8773\n",
            "Epoch 3/10\n",
            "115/115 [==============================] - 24s 209ms/step - loss: 0.6559 - accuracy: 0.8776\n",
            "Epoch 4/10\n",
            "115/115 [==============================] - 24s 208ms/step - loss: 0.6510 - accuracy: 0.8786\n",
            "Epoch 5/10\n",
            "115/115 [==============================] - 24s 207ms/step - loss: 0.6462 - accuracy: 0.8791\n",
            "Epoch 6/10\n",
            "115/115 [==============================] - 24s 205ms/step - loss: 0.6415 - accuracy: 0.8800\n",
            "Epoch 7/10\n",
            "115/115 [==============================] - 24s 209ms/step - loss: 0.6373 - accuracy: 0.8803\n",
            "Epoch 8/10\n",
            "115/115 [==============================] - 24s 207ms/step - loss: 0.6322 - accuracy: 0.8810\n",
            "Epoch 9/10\n",
            "115/115 [==============================] - 24s 212ms/step - loss: 0.6288 - accuracy: 0.8813\n",
            "Epoch 10/10\n",
            "115/115 [==============================] - 24s 207ms/step - loss: 0.6234 - accuracy: 0.8820\n",
            "이런 것 어떠세요 \n",
            "\n",
            "Total Epoch : 7\n",
            "Epoch 1/10\n",
            "115/115 [==============================] - 24s 207ms/step - loss: 0.6197 - accuracy: 0.8827\n",
            "Epoch 2/10\n",
            "115/115 [==============================] - 24s 210ms/step - loss: 0.6157 - accuracy: 0.8831\n",
            "Epoch 3/10\n",
            "115/115 [==============================] - 24s 210ms/step - loss: 0.6109 - accuracy: 0.8845\n",
            "Epoch 4/10\n",
            "115/115 [==============================] - 24s 212ms/step - loss: 0.6074 - accuracy: 0.8847\n",
            "Epoch 5/10\n",
            "115/115 [==============================] - 24s 208ms/step - loss: 0.6034 - accuracy: 0.8852\n",
            "Epoch 6/10\n",
            "115/115 [==============================] - 24s 208ms/step - loss: 0.5997 - accuracy: 0.8856\n",
            "Epoch 7/10\n",
            "115/115 [==============================] - 24s 209ms/step - loss: 0.5951 - accuracy: 0.8866\n",
            "Epoch 8/10\n",
            "115/115 [==============================] - 24s 207ms/step - loss: 0.5911 - accuracy: 0.8871\n",
            "Epoch 9/10\n",
            "115/115 [==============================] - 24s 209ms/step - loss: 0.5871 - accuracy: 0.8880\n",
            "Epoch 10/10\n",
            "115/115 [==============================] - 24s 208ms/step - loss: 0.5825 - accuracy: 0.8886\n",
            "이런 것 어떠세요 \n",
            "\n",
            "Total Epoch : 8\n",
            "Epoch 1/10\n",
            "115/115 [==============================] - 24s 206ms/step - loss: 0.5796 - accuracy: 0.8886\n",
            "Epoch 2/10\n",
            "115/115 [==============================] - 25s 215ms/step - loss: 0.5749 - accuracy: 0.8897\n",
            "Epoch 3/10\n",
            "115/115 [==============================] - 24s 211ms/step - loss: 0.5713 - accuracy: 0.8899\n",
            "Epoch 4/10\n",
            "115/115 [==============================] - 25s 216ms/step - loss: 0.5662 - accuracy: 0.8911\n",
            "Epoch 5/10\n",
            "115/115 [==============================] - 25s 215ms/step - loss: 0.5626 - accuracy: 0.8912\n",
            "Epoch 6/10\n",
            "115/115 [==============================] - 25s 213ms/step - loss: 0.5595 - accuracy: 0.8916\n",
            "Epoch 7/10\n",
            "115/115 [==============================] - 24s 209ms/step - loss: 0.5553 - accuracy: 0.8928\n",
            "Epoch 8/10\n",
            "115/115 [==============================] - 24s 209ms/step - loss: 0.5514 - accuracy: 0.8928\n",
            "Epoch 9/10\n",
            "115/115 [==============================] - 24s 211ms/step - loss: 0.5477 - accuracy: 0.8938\n",
            "Epoch 10/10\n",
            "115/115 [==============================] - 24s 210ms/step - loss: 0.5432 - accuracy: 0.8949\n",
            "이런 것 어떠세요 \n",
            "\n",
            "Total Epoch : 9\n",
            "Epoch 1/10\n",
            "115/115 [==============================] - 24s 213ms/step - loss: 0.5404 - accuracy: 0.8949\n",
            "Epoch 2/10\n",
            "115/115 [==============================] - 24s 211ms/step - loss: 0.5353 - accuracy: 0.8959\n",
            "Epoch 3/10\n",
            "115/115 [==============================] - 24s 212ms/step - loss: 0.5318 - accuracy: 0.8962\n",
            "Epoch 4/10\n",
            "115/115 [==============================] - 25s 214ms/step - loss: 0.5266 - accuracy: 0.8972\n",
            "Epoch 5/10\n",
            "115/115 [==============================] - 25s 215ms/step - loss: 0.5232 - accuracy: 0.8975\n",
            "Epoch 6/10\n",
            "115/115 [==============================] - 25s 214ms/step - loss: 0.5198 - accuracy: 0.8977\n",
            "Epoch 7/10\n",
            "115/115 [==============================] - 25s 214ms/step - loss: 0.5151 - accuracy: 0.8986\n",
            "Epoch 8/10\n",
            "115/115 [==============================] - 25s 214ms/step - loss: 0.5111 - accuracy: 0.8993\n",
            "Epoch 9/10\n",
            "115/115 [==============================] - 25s 214ms/step - loss: 0.5073 - accuracy: 0.8998\n",
            "Epoch 10/10\n",
            "115/115 [==============================] - 24s 213ms/step - loss: 0.5033 - accuracy: 0.9009\n",
            "이런 게 어떠세요 \n",
            "\n",
            "Total Epoch : 10\n",
            "Epoch 1/10\n",
            "115/115 [==============================] - 25s 214ms/step - loss: 0.4996 - accuracy: 0.9012\n",
            "Epoch 2/10\n",
            "115/115 [==============================] - 25s 213ms/step - loss: 0.4966 - accuracy: 0.9017\n",
            "Epoch 3/10\n",
            "115/115 [==============================] - 25s 214ms/step - loss: 0.4930 - accuracy: 0.9022\n",
            "Epoch 4/10\n",
            "115/115 [==============================] - 24s 213ms/step - loss: 0.4896 - accuracy: 0.9031\n",
            "Epoch 5/10\n",
            "115/115 [==============================] - 24s 212ms/step - loss: 0.4856 - accuracy: 0.9031\n",
            "Epoch 6/10\n",
            "115/115 [==============================] - 24s 213ms/step - loss: 0.4826 - accuracy: 0.9040\n",
            "Epoch 7/10\n",
            "115/115 [==============================] - 25s 218ms/step - loss: 0.4796 - accuracy: 0.9047\n",
            "Epoch 8/10\n",
            "115/115 [==============================] - 24s 212ms/step - loss: 0.4753 - accuracy: 0.9053\n",
            "Epoch 9/10\n",
            "115/115 [==============================] - 24s 212ms/step - loss: 0.4713 - accuracy: 0.9056\n",
            "Epoch 10/10\n",
            "115/115 [==============================] - 25s 214ms/step - loss: 0.4679 - accuracy: 0.9065\n",
            "이런 게 어떠세요 \n",
            "\n",
            "Total Epoch : 11\n",
            "Epoch 1/10\n",
            "115/115 [==============================] - 25s 214ms/step - loss: 0.4644 - accuracy: 0.9072\n",
            "Epoch 2/10\n",
            "115/115 [==============================] - 25s 216ms/step - loss: 0.4612 - accuracy: 0.9076\n",
            "Epoch 3/10\n",
            "115/115 [==============================] - 25s 217ms/step - loss: 0.4584 - accuracy: 0.9081\n",
            "Epoch 4/10\n",
            "115/115 [==============================] - 25s 216ms/step - loss: 0.4560 - accuracy: 0.9087\n",
            "Epoch 5/10\n",
            "115/115 [==============================] - 25s 218ms/step - loss: 0.4514 - accuracy: 0.9090\n",
            "Epoch 6/10\n",
            "115/115 [==============================] - 25s 217ms/step - loss: 0.4484 - accuracy: 0.9098\n",
            "Epoch 7/10\n",
            "115/115 [==============================] - 25s 217ms/step - loss: 0.4454 - accuracy: 0.9106\n",
            "Epoch 8/10\n",
            "115/115 [==============================] - 25s 219ms/step - loss: 0.4434 - accuracy: 0.9105\n",
            "Epoch 9/10\n",
            "115/115 [==============================] - 26s 222ms/step - loss: 0.4392 - accuracy: 0.9117\n",
            "Epoch 10/10\n",
            "115/115 [==============================] - 25s 219ms/step - loss: 0.4368 - accuracy: 0.9117\n",
            "이런 게 어떠세요 \n",
            "\n",
            "Total Epoch : 12\n",
            "Epoch 1/10\n",
            "115/115 [==============================] - 25s 217ms/step - loss: 0.4351 - accuracy: 0.9124\n",
            "Epoch 2/10\n",
            "115/115 [==============================] - 25s 220ms/step - loss: 0.4310 - accuracy: 0.9131\n",
            "Epoch 3/10\n",
            "115/115 [==============================] - 25s 218ms/step - loss: 0.4283 - accuracy: 0.9136\n",
            "Epoch 4/10\n",
            "115/115 [==============================] - 25s 218ms/step - loss: 0.4251 - accuracy: 0.9141\n",
            "Epoch 5/10\n",
            "115/115 [==============================] - 25s 218ms/step - loss: 0.4223 - accuracy: 0.9147\n",
            "Epoch 6/10\n",
            "115/115 [==============================] - 25s 218ms/step - loss: 0.4195 - accuracy: 0.9154\n",
            "Epoch 7/10\n",
            "115/115 [==============================] - 25s 219ms/step - loss: 0.4167 - accuracy: 0.9160\n",
            "Epoch 8/10\n",
            "115/115 [==============================] - 25s 217ms/step - loss: 0.4141 - accuracy: 0.9161\n",
            "Epoch 9/10\n",
            "115/115 [==============================] - 25s 218ms/step - loss: 0.4110 - accuracy: 0.9171\n",
            "Epoch 10/10\n",
            "115/115 [==============================] - 25s 218ms/step - loss: 0.4082 - accuracy: 0.9177\n",
            "이런 제품 어떠세요 \n",
            "\n",
            "Total Epoch : 13\n",
            "Epoch 1/10\n",
            "115/115 [==============================] - 25s 220ms/step - loss: 0.4051 - accuracy: 0.9184\n",
            "Epoch 2/10\n",
            "115/115 [==============================] - 25s 220ms/step - loss: 0.4024 - accuracy: 0.9188\n",
            "Epoch 3/10\n",
            "115/115 [==============================] - 25s 221ms/step - loss: 0.4006 - accuracy: 0.9188\n",
            "Epoch 4/10\n",
            "115/115 [==============================] - 25s 220ms/step - loss: 0.3976 - accuracy: 0.9195\n",
            "Epoch 5/10\n",
            "115/115 [==============================] - 25s 218ms/step - loss: 0.3952 - accuracy: 0.9199\n",
            "Epoch 6/10\n",
            "115/115 [==============================] - 25s 218ms/step - loss: 0.3933 - accuracy: 0.9202\n",
            "Epoch 7/10\n",
            "115/115 [==============================] - 25s 220ms/step - loss: 0.3900 - accuracy: 0.9206\n",
            "Epoch 8/10\n",
            "115/115 [==============================] - 25s 218ms/step - loss: 0.3875 - accuracy: 0.9215\n",
            "Epoch 9/10\n",
            "115/115 [==============================] - 25s 220ms/step - loss: 0.3852 - accuracy: 0.9219\n",
            "Epoch 10/10\n",
            "115/115 [==============================] - 25s 220ms/step - loss: 0.3830 - accuracy: 0.9221\n",
            "이런 게 어떠세요 \n",
            "\n",
            "Total Epoch : 14\n",
            "Epoch 1/10\n",
            "115/115 [==============================] - 25s 219ms/step - loss: 0.3815 - accuracy: 0.9224\n",
            "Epoch 2/10\n",
            "115/115 [==============================] - 25s 219ms/step - loss: 0.3781 - accuracy: 0.9235\n",
            "Epoch 3/10\n",
            "115/115 [==============================] - 25s 218ms/step - loss: 0.3743 - accuracy: 0.9243\n",
            "Epoch 4/10\n",
            "115/115 [==============================] - 26s 222ms/step - loss: 0.3729 - accuracy: 0.9241\n",
            "Epoch 5/10\n",
            "115/115 [==============================] - 25s 219ms/step - loss: 0.3700 - accuracy: 0.9245\n",
            "Epoch 6/10\n",
            "115/115 [==============================] - 25s 219ms/step - loss: 0.3689 - accuracy: 0.9245\n",
            "Epoch 7/10\n",
            "115/115 [==============================] - 25s 218ms/step - loss: 0.3654 - accuracy: 0.9256\n",
            "Epoch 8/10\n",
            "115/115 [==============================] - 25s 219ms/step - loss: 0.3624 - accuracy: 0.9263\n",
            "Epoch 9/10\n",
            "115/115 [==============================] - 25s 218ms/step - loss: 0.3606 - accuracy: 0.9266\n",
            "Epoch 10/10\n",
            "115/115 [==============================] - 25s 217ms/step - loss: 0.3582 - accuracy: 0.9269\n",
            "이런 건 어떠세요 \n",
            "\n",
            "Total Epoch : 15\n",
            "Epoch 1/10\n",
            "115/115 [==============================] - 26s 222ms/step - loss: 0.3556 - accuracy: 0.9277\n",
            "Epoch 2/10\n",
            "115/115 [==============================] - 25s 219ms/step - loss: 0.3530 - accuracy: 0.9283\n",
            "Epoch 3/10\n",
            "115/115 [==============================] - 25s 220ms/step - loss: 0.3515 - accuracy: 0.9284\n",
            "Epoch 4/10\n",
            "115/115 [==============================] - 25s 219ms/step - loss: 0.3482 - accuracy: 0.9287\n",
            "Epoch 5/10\n",
            "115/115 [==============================] - 25s 220ms/step - loss: 0.3453 - accuracy: 0.9290\n",
            "Epoch 6/10\n",
            "115/115 [==============================] - 26s 223ms/step - loss: 0.3439 - accuracy: 0.9296\n",
            "Epoch 7/10\n",
            "115/115 [==============================] - 25s 219ms/step - loss: 0.3418 - accuracy: 0.9298\n",
            "Epoch 8/10\n",
            "115/115 [==============================] - 25s 221ms/step - loss: 0.3387 - accuracy: 0.9309\n",
            "Epoch 9/10\n",
            "115/115 [==============================] - 25s 219ms/step - loss: 0.3360 - accuracy: 0.9316\n",
            "Epoch 10/10\n",
            "115/115 [==============================] - 25s 219ms/step - loss: 0.3349 - accuracy: 0.9312\n",
            "이런 건 어떠세요 \n",
            "\n",
            "Total Epoch : 16\n",
            "Epoch 1/10\n",
            "115/115 [==============================] - 25s 218ms/step - loss: 0.3329 - accuracy: 0.9321\n",
            "Epoch 2/10\n",
            "115/115 [==============================] - 25s 220ms/step - loss: 0.3299 - accuracy: 0.9319\n",
            "Epoch 3/10\n",
            "115/115 [==============================] - 25s 218ms/step - loss: 0.3275 - accuracy: 0.9325\n",
            "Epoch 4/10\n",
            "115/115 [==============================] - 25s 219ms/step - loss: 0.3264 - accuracy: 0.9327\n",
            "Epoch 5/10\n",
            "115/115 [==============================] - 25s 219ms/step - loss: 0.3237 - accuracy: 0.9334\n",
            "Epoch 6/10\n",
            "115/115 [==============================] - 25s 218ms/step - loss: 0.3208 - accuracy: 0.9337\n",
            "Epoch 7/10\n",
            "115/115 [==============================] - 25s 219ms/step - loss: 0.3185 - accuracy: 0.9344\n",
            "Epoch 8/10\n",
            "115/115 [==============================] - 26s 222ms/step - loss: 0.3165 - accuracy: 0.9347\n",
            "Epoch 9/10\n",
            "115/115 [==============================] - 25s 218ms/step - loss: 0.3143 - accuracy: 0.9349\n",
            "Epoch 10/10\n",
            "115/115 [==============================] - 25s 220ms/step - loss: 0.3119 - accuracy: 0.9355\n",
            "이런 건 어떠세요 \n",
            "\n",
            "Total Epoch : 17\n",
            "Epoch 1/10\n",
            "115/115 [==============================] - 25s 219ms/step - loss: 0.3101 - accuracy: 0.9363\n",
            "Epoch 2/10\n",
            "115/115 [==============================] - 25s 221ms/step - loss: 0.3084 - accuracy: 0.9361\n",
            "Epoch 3/10\n",
            "115/115 [==============================] - 25s 220ms/step - loss: 0.3058 - accuracy: 0.9369\n",
            "Epoch 4/10\n",
            "115/115 [==============================] - 25s 221ms/step - loss: 0.3046 - accuracy: 0.9369\n",
            "Epoch 5/10\n",
            "115/115 [==============================] - 25s 219ms/step - loss: 0.3014 - accuracy: 0.9376\n",
            "Epoch 6/10\n",
            "115/115 [==============================] - 25s 218ms/step - loss: 0.2996 - accuracy: 0.9379\n",
            "Epoch 7/10\n",
            "115/115 [==============================] - 25s 220ms/step - loss: 0.2982 - accuracy: 0.9384\n",
            "Epoch 8/10\n",
            "115/115 [==============================] - 25s 219ms/step - loss: 0.2958 - accuracy: 0.9387\n",
            "Epoch 9/10\n",
            "115/115 [==============================] - 25s 219ms/step - loss: 0.2927 - accuracy: 0.9394\n",
            "Epoch 10/10\n",
            "115/115 [==============================] - 26s 223ms/step - loss: 0.2927 - accuracy: 0.9395\n",
            "이런 게 어떠세요 이런 거 신발 들 편하거든요 \n",
            "\n",
            "Total Epoch : 18\n",
            "Epoch 1/10\n",
            "115/115 [==============================] - 25s 218ms/step - loss: 0.2903 - accuracy: 0.9392\n",
            "Epoch 2/10\n",
            "115/115 [==============================] - 25s 218ms/step - loss: 0.2884 - accuracy: 0.9404\n",
            "Epoch 3/10\n",
            "115/115 [==============================] - 25s 219ms/step - loss: 0.2867 - accuracy: 0.9404\n",
            "Epoch 4/10\n",
            "115/115 [==============================] - 25s 219ms/step - loss: 0.2844 - accuracy: 0.9409\n",
            "Epoch 5/10\n",
            "115/115 [==============================] - 25s 217ms/step - loss: 0.2821 - accuracy: 0.9412\n",
            "Epoch 6/10\n",
            "115/115 [==============================] - 25s 217ms/step - loss: 0.2800 - accuracy: 0.9415\n",
            "Epoch 7/10\n",
            "115/115 [==============================] - 25s 217ms/step - loss: 0.2787 - accuracy: 0.9414\n",
            "Epoch 8/10\n",
            "115/115 [==============================] - 25s 217ms/step - loss: 0.2762 - accuracy: 0.9423\n",
            "Epoch 9/10\n",
            "115/115 [==============================] - 25s 218ms/step - loss: 0.2746 - accuracy: 0.9432\n",
            "Epoch 10/10\n",
            "115/115 [==============================] - 25s 217ms/step - loss: 0.2716 - accuracy: 0.9436\n",
            "이런 건 어떠세요 \n",
            "\n",
            "Total Epoch : 19\n",
            "Epoch 1/10\n",
            "115/115 [==============================] - 26s 224ms/step - loss: 0.2712 - accuracy: 0.9432\n",
            "Epoch 2/10\n",
            "115/115 [==============================] - 26s 225ms/step - loss: 0.2700 - accuracy: 0.9436\n",
            "Epoch 3/10\n",
            "115/115 [==============================] - 25s 221ms/step - loss: 0.2671 - accuracy: 0.9444\n",
            "Epoch 4/10\n",
            "115/115 [==============================] - 26s 222ms/step - loss: 0.2659 - accuracy: 0.9446\n",
            "Epoch 5/10\n",
            "115/115 [==============================] - 25s 220ms/step - loss: 0.2637 - accuracy: 0.9450\n",
            "Epoch 6/10\n",
            "115/115 [==============================] - 25s 220ms/step - loss: 0.2632 - accuracy: 0.9452\n",
            "Epoch 7/10\n",
            "115/115 [==============================] - 25s 219ms/step - loss: 0.2609 - accuracy: 0.9459\n",
            "Epoch 8/10\n",
            "115/115 [==============================] - 25s 219ms/step - loss: 0.2589 - accuracy: 0.9462\n",
            "Epoch 9/10\n",
            "115/115 [==============================] - 25s 219ms/step - loss: 0.2580 - accuracy: 0.9465\n",
            "Epoch 10/10\n",
            "115/115 [==============================] - 25s 220ms/step - loss: 0.2562 - accuracy: 0.9468\n",
            "이런 건 어떠세요 이런 거 신발 무척 편하거든요 \n",
            "\n",
            "Total Epoch : 20\n",
            "Epoch 1/10\n",
            "115/115 [==============================] - 25s 219ms/step - loss: 0.2548 - accuracy: 0.9469\n",
            "Epoch 2/10\n",
            "115/115 [==============================] - 25s 218ms/step - loss: 0.2534 - accuracy: 0.9469\n",
            "Epoch 3/10\n",
            "115/115 [==============================] - 25s 218ms/step - loss: 0.2527 - accuracy: 0.9472\n",
            "Epoch 4/10\n",
            "115/115 [==============================] - 26s 223ms/step - loss: 0.2510 - accuracy: 0.9474\n",
            "Epoch 5/10\n",
            "115/115 [==============================] - 26s 222ms/step - loss: 0.2489 - accuracy: 0.9483\n",
            "Epoch 6/10\n",
            "115/115 [==============================] - 25s 220ms/step - loss: 0.2481 - accuracy: 0.9487\n",
            "Epoch 7/10\n",
            "115/115 [==============================] - 25s 220ms/step - loss: 0.2478 - accuracy: 0.9483\n",
            "Epoch 8/10\n",
            "115/115 [==============================] - 25s 219ms/step - loss: 0.2460 - accuracy: 0.9492\n",
            "Epoch 9/10\n",
            "115/115 [==============================] - 25s 220ms/step - loss: 0.2445 - accuracy: 0.9491\n",
            "Epoch 10/10\n",
            "115/115 [==============================] - 25s 219ms/step - loss: 0.2428 - accuracy: 0.9495\n",
            "이런 건 어떠세요 이런 거도 신발 편해요 편하거든요 \n",
            "\n"
          ],
          "name": "stdout"
        }
      ]
    },
    {
      "cell_type": "code",
      "metadata": {
        "id": "K1aK-w9GPVzI"
      },
      "source": [
        "from keras.models import load_model\n",
        "model.save('chatbot_model.h5')"
      ],
      "execution_count": null,
      "outputs": []
    },
    {
      "cell_type": "markdown",
      "metadata": {
        "id": "GTaUvGrqydzy"
      },
      "source": [
        "학습이 진행될수록 예측 문장이 제대로 생성되는 것을 볼 수 있습니다. 다만 여기서의 예측은 단순히 테스트를 위한 것이라, 인코더 입력과 디코더 입력 데이터가 동시에 사용됩니다. 아래 문장 생성에서는 예측 모델을 적용하기 때문에, 오직 인코더 입력 데이터만 집어 넣습니다."
      ]
    },
    {
      "cell_type": "markdown",
      "metadata": {
        "id": "Q3wHpkRaydzy"
      },
      "source": [
        "<br>\n",
        "<br>\n",
        "# 문장 생성"
      ]
    },
    {
      "cell_type": "code",
      "metadata": {
        "id": "KjmUSEsPro5D",
        "outputId": "9e69448e-8642-47e8-89b2-591dec74a00d",
        "colab": {
          "base_uri": "https://localhost:8080/",
          "height": 54
        }
      },
      "source": [
        "from keras.models import load_model\n",
        "model = load_model('/content/drive/My Drive/자연어처리,추천/NLPer/chatbot_pra/pickle/1024_save/chatbot_model.h5')"
      ],
      "execution_count": null,
      "outputs": [
        {
          "output_type": "stream",
          "text": [
            "WARNING:tensorflow:Layer lstm will not use cuDNN kernel since it doesn't meet the cuDNN kernel criteria. It will use generic GPU kernel as fallback when running on GPU\n",
            "WARNING:tensorflow:Layer lstm_1 will not use cuDNN kernel since it doesn't meet the cuDNN kernel criteria. It will use generic GPU kernel as fallback when running on GPU\n"
          ],
          "name": "stdout"
        }
      ]
    },
    {
      "cell_type": "code",
      "metadata": {
        "id": "2E66RpbXydzy"
      },
      "source": [
        "# 예측을 위한 입력 생성\n",
        "def make_predict_input(sentence):\n",
        "\n",
        "    sentences = []\n",
        "    sentences.append(sentence)\n",
        "    sentences = pos_tag(sentences)\n",
        "    input_seq = convert_text_to_index(sentences, word_to_index, ENCODER_INPUT)\n",
        "    \n",
        "    return input_seq"
      ],
      "execution_count": null,
      "outputs": []
    },
    {
      "cell_type": "code",
      "metadata": {
        "id": "nUV-fKE0ydz0"
      },
      "source": [
        "# 텍스트 생성\n",
        "def generate_text(input_seq):\n",
        "    \n",
        "    # 입력을 인코더에 넣어 마지막 상태 구함\n",
        "    states = encoder_model.predict(input_seq)\n",
        "\n",
        "    # 목표 시퀀스 초기화\n",
        "    target_seq = np.zeros((1, 1))\n",
        "    \n",
        "    # 목표 시퀀스의 첫 번째에 <START> 태그 추가\n",
        "    target_seq[0, 0] = STA_INDEX\n",
        "    \n",
        "    # 인덱스 초기화\n",
        "    indexs = []\n",
        "    \n",
        "    # 디코더 타임 스텝 반복\n",
        "    while 1:\n",
        "        # 디코더로 현재 타임 스텝 출력 구함\n",
        "        # 처음에는 인코더 상태를, 다음부터 이전 디코더 상태로 초기화\n",
        "        decoder_outputs, state_h, state_c = decoder_model.predict(\n",
        "                                                [target_seq] + states)\n",
        "\n",
        "        # 결과의 원핫인코딩 형식을 인덱스로 변환\n",
        "        index = np.argmax(decoder_outputs[0, 0, :])\n",
        "        indexs.append(index)\n",
        "        \n",
        "        # 종료 검사\n",
        "        if index == END_INDEX or len(indexs) >= max_sequences:\n",
        "            break\n",
        "\n",
        "        # 목표 시퀀스를 바로 이전의 출력으로 설정\n",
        "        target_seq = np.zeros((1, 1))\n",
        "        target_seq[0, 0] = index\n",
        "        \n",
        "        # 디코더의 이전 상태를 다음 디코더 예측에 사용\n",
        "        states = [state_h, state_c]\n",
        "\n",
        "    # 인덱스를 문장으로 변환\n",
        "    sentence = convert_index_to_text(indexs, index_to_word)\n",
        "        \n",
        "    return sentence"
      ],
      "execution_count": null,
      "outputs": []
    },
    {
      "cell_type": "markdown",
      "metadata": {
        "id": "0_hPm47_ydz2"
      },
      "source": [
        "제일 첫 단어는 START로 시작합니다. 그리고 출력으로 나온 인덱스를 디코더 입력으로 넣고 다시 예측을 반복합니다. 상태값을 받아 다시 입력으로 같이 넣는 것에 주의하시기 바랍니다. END 태그가 나오면 문장 생성을 종료합니다.\n",
        "<br>\n",
        "<br>\n",
        "<br>"
      ]
    },
    {
      "cell_type": "code",
      "metadata": {
        "id": "xghcWc8Gydz2",
        "outputId": "7b2383b0-225b-420d-bc56-151806708dbf",
        "colab": {
          "base_uri": "https://localhost:8080/",
          "height": 72
        }
      },
      "source": [
        "# 문장을 인덱스로 변환\n",
        "input_seq = make_predict_input('이 티셔츠 사이즈 있나요')\n",
        "input_seq\n"
      ],
      "execution_count": null,
      "outputs": [
        {
          "output_type": "execute_result",
          "data": {
            "text/plain": [
              "array([[4866,  317, 3251, 4466,    0,    0,    0,    0,    0,    0,    0,\n",
              "           0,    0,    0,    0,    0,    0,    0,    0,    0,    0,    0,\n",
              "           0,    0,    0,    0,    0,    0,    0,    0]])"
            ]
          },
          "metadata": {
            "tags": []
          },
          "execution_count": 26
        }
      ]
    },
    {
      "cell_type": "code",
      "metadata": {
        "id": "SAVCqw5kydz4",
        "outputId": "35c5d453-8853-4a4a-9c62-470697311684",
        "colab": {
          "base_uri": "https://localhost:8080/",
          "height": 35
        }
      },
      "source": [
        "# 예측 모델로 텍스트 생성\n",
        "sentence = generate_text(input_seq)\n",
        "sentence\n"
      ],
      "execution_count": null,
      "outputs": [
        {
          "output_type": "execute_result",
          "data": {
            "application/vnd.google.colaboratory.intrinsic+json": {
              "type": "string"
            },
            "text/plain": [
              "'세척 교복 이었고 레드 어머니 버튼 딱딱해서 금도 뛰어난 온도 블랙 버스 팝니다 괜찮은가요 뛰어난 가까운 뛰어난 여가 였죠 세계지도 물 신으실라면 굉장히 굉장히 굉장히 굉장히 등하교 등하교 군데 군데 '"
            ]
          },
          "metadata": {
            "tags": []
          },
          "execution_count": 27
        }
      ]
    },
    {
      "cell_type": "markdown",
      "metadata": {
        "id": "nU1tviXGydz6"
      },
      "source": [
        "데이터셋에 있는 문장과 똑같은 입력을 넣으니, 역시 정확히 일치하는 답변이 출력되었습니다.\n",
        "<br>\n",
        "<br>\n",
        "<br>"
      ]
    },
    {
      "cell_type": "code",
      "metadata": {
        "id": "AdXb0cg6ydz6",
        "outputId": "98a5d8a4-f405-4bbd-b6ff-9e968268f546",
        "colab": {
          "base_uri": "https://localhost:8080/",
          "height": 70
        }
      },
      "source": [
        "# 문장을 인덱스로 변환\n",
        "input_seq = make_predict_input('이 티셔츠 사이즈 있나요')\n",
        "input_seq\n"
      ],
      "execution_count": null,
      "outputs": [
        {
          "output_type": "execute_result",
          "data": {
            "text/plain": [
              "array([[ 76,   3, 380,   8,   0,   0,   0,   0,   0,   0,   0,   0,   0,\n",
              "          0,   0,   0,   0,   0,   0,   0,   0,   0,   0,   0,   0,   0,\n",
              "          0,   0,   0,   0]])"
            ]
          },
          "metadata": {
            "tags": []
          },
          "execution_count": 33
        }
      ]
    },
    {
      "cell_type": "code",
      "metadata": {
        "id": "dg0EKhR8ydz7",
        "outputId": "ea00fe2a-93ae-455c-ab59-123fb8ecce9b",
        "colab": {
          "base_uri": "https://localhost:8080/",
          "height": 35
        }
      },
      "source": [
        "# 예측 모델로 텍스트 생성\n",
        "sentence = generate_text(input_seq)\n",
        "sentence\n"
      ],
      "execution_count": null,
      "outputs": [
        {
          "output_type": "execute_result",
          "data": {
            "application/vnd.google.colaboratory.intrinsic+json": {
              "type": "string"
            },
            "text/plain": [
              "'네 있어요 '"
            ]
          },
          "metadata": {
            "tags": []
          },
          "execution_count": 34
        }
      ]
    },
    {
      "cell_type": "markdown",
      "metadata": {
        "id": "tTJaDU2Oydz9"
      },
      "source": [
        "데이터셋 문장에서는 없던 '같이'라는 단어를 추가해 보았습니다. 그래도 비슷한 의미란 것을 파악하여 동일한 답변이 나왔습니다.\n",
        "<br>\n",
        "<br>\n",
        "<br>"
      ]
    },
    {
      "cell_type": "code",
      "metadata": {
        "id": "0nfzs40Jydz9",
        "outputId": "47c938d9-79a6-4acd-a6b7-11dc2afbabec",
        "colab": {
          "base_uri": "https://localhost:8080/",
          "height": 71
        }
      },
      "source": [
        "# 문장을 인덱스로 변환\n",
        "input_seq = make_predict_input('교환 가능한가요?')\n",
        "input_seq\n"
      ],
      "execution_count": null,
      "outputs": [
        {
          "output_type": "execute_result",
          "data": {
            "text/plain": [
              "array([[458, 263,   0,   0,   0,   0,   0,   0,   0,   0,   0,   0,   0,\n",
              "          0,   0,   0,   0,   0,   0,   0,   0,   0,   0,   0,   0,   0,\n",
              "          0,   0,   0,   0]])"
            ]
          },
          "metadata": {
            "tags": []
          },
          "execution_count": 47
        }
      ]
    },
    {
      "cell_type": "code",
      "metadata": {
        "id": "CfAuRhDwydz_",
        "outputId": "302b31e9-2be6-4361-cc54-32ba3ed63c56",
        "colab": {
          "base_uri": "https://localhost:8080/",
          "height": 35
        }
      },
      "source": [
        "# 예측 모델로 텍스트 생성\n",
        "sentence = generate_text(input_seq)\n",
        "sentence\n"
      ],
      "execution_count": null,
      "outputs": [
        {
          "output_type": "execute_result",
          "data": {
            "application/vnd.google.colaboratory.intrinsic+json": {
              "type": "string"
            },
            "text/plain": [
              "'노트북 넣어 다니시려면 이 정도 는 하셔야 해 요 '"
            ]
          },
          "metadata": {
            "tags": []
          },
          "execution_count": 48
        }
      ]
    },
    {
      "cell_type": "code",
      "metadata": {
        "id": "m762ytwJjyv6",
        "outputId": "638f497d-cc16-4ba8-8307-929d454c2bf3",
        "colab": {
          "base_uri": "https://localhost:8080/",
          "height": 52
        }
      },
      "source": [
        "example = input()\n",
        "input_seq = make_predict_input(example)\n",
        "sentence = generate_text(input_seq)\n",
        "sentence"
      ],
      "execution_count": null,
      "outputs": [
        {
          "output_type": "stream",
          "text": [
            "이 가방 한정판으로 나온거에요\n"
          ],
          "name": "stdout"
        },
        {
          "output_type": "execute_result",
          "data": {
            "application/vnd.google.colaboratory.intrinsic+json": {
              "type": "string"
            },
            "text/plain": [
              "'재질 가방 은 따로 찾으시는 건 있으세요 '"
            ]
          },
          "metadata": {
            "tags": []
          },
          "execution_count": 51
        }
      ]
    },
    {
      "cell_type": "markdown",
      "metadata": {
        "id": "uIjDksZ1yd0A"
      },
      "source": [
        "하지만 데이터셋에 없던 '가려고'로 입력을 수정하니, 전혀 다른 문장이 출력되었습니다. 이는 우리가 데이터의 일부인 100개 문장만 학습했기 때문입니다. 데이터의 개수를 늘려서 훈련할수록 일반화 능력이 더욱 높아집니다."
      ]
    }
  ]
}